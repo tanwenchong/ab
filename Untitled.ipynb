{
 "cells": [
  {
   "cell_type": "code",
   "execution_count": 1,
   "id": "b0a137ce-46de-4405-a8f9-979ad524ddea",
   "metadata": {},
   "outputs": [],
   "source": [
    "def generate_hillclimb_mutations(curr_seq, num_mutations: int, alphabet: str, variable_regions: list=None):\n",
    "\n",
    "    if variable_regions:\n",
    "        variable_token_ind = variable_regions\n",
    "    else:\n",
    "        variable_token_ind = list(range(len(sequences)))\n",
    "\n",
    "    targets = []\n",
    "    # generate all k=1 mutations\n",
    "    for ind in variable_token_ind:\n",
    "        pre_string = curr_seq[:ind]\n",
    "        post_string = curr_seq[ind+1:]\n",
    "        _alphabet = set(alphabet)-set([curr_seq[ind]])\n",
    "        targets += [pre_string+letter+post_string for letter in _alphabet]\n",
    "\n",
    "    # generate random k=2 mutations\n",
    "    num_k2 = num_mutations-len(targets)\n",
    "    if num_k2>0:\n",
    "        for i in range(num_k2):\n",
    "            inds = random.sample(variable_token_ind,2)\n",
    "            seq_copy = curr_seq\n",
    "            for ind in inds:\n",
    "                seq_copy = seq_copy[:ind]+random.sample(set(alphabet)-set([curr_seq[ind]]),1)[0]+seq_copy[ind+1:]\n",
    "            targets += [seq_copy]\n",
    "    return targets"
   ]
  },
  {
   "cell_type": "code",
   "execution_count": 2,
   "id": "4e8a86ce-71f1-4280-8278-009eb0d1543c",
   "metadata": {},
   "outputs": [],
   "source": [
    "seq='ACTGACTG'\n",
    "alphabet='ACTG'\n",
    "num_mutations=4\n",
    "variable_regions=[1,2]"
   ]
  },
  {
   "cell_type": "code",
   "execution_count": 3,
   "id": "a9a77506-87dd-4ebd-a48f-fe949b87e8a3",
   "metadata": {},
   "outputs": [
    {
     "name": "stdout",
     "output_type": "stream",
     "text": [
      "['ATTGACTG', 'AGTGACTG', 'AATGACTG', 'ACGGACTG', 'ACAGACTG', 'ACCGACTG']\n"
     ]
    }
   ],
   "source": [
    "print(generate_hillclimb_mutations(seq,num_mutations,alphabet,variable_regions))"
   ]
  },
  {
   "cell_type": "code",
   "execution_count": 12,
   "id": "90b7138a-774b-443f-8554-2eaf27f4de2a",
   "metadata": {},
   "outputs": [],
   "source": [
    "import numpy as np\n",
    "def find_next(self,curr_seq, curr_val):\n",
    "    targets = np.array(generate_hillclimb_mutations(curr_seq, num_mutations=self.model_queries_per_batch, alphabet=self.alphabet, variable_regions=self.variable_regions))\n",
    "    target_vals, mean, std = (targets)\n",
    "    ind = np.where(target_vals > curr_val)[0]\n",
    "    targets = targets[ind]\n",
    "    target_vals = target_vals[ind]\n",
    "    mean = mean[ind]\n",
    "    std = std[ind]\n",
    "    # rank \n",
    "    sorted_order = np.argsort(target_vals)[: -self.sequences_batch_size : -1]\n",
    "    targets = targets[sorted_order]\n",
    "    target_vals = target_vals[sorted_order]\n",
    "    mean = mean[sorted_order]\n",
    "    std = std[sorted_order]\n",
    "    return targets, target_vals, mean, std\n"
   ]
  },
  {
   "cell_type": "code",
   "execution_count": 28,
   "id": "0dd37966-673e-4230-ab84-523b64ae9eac",
   "metadata": {},
   "outputs": [
    {
     "ename": "ValueError",
     "evalue": "Dimension has to be a list or tuple.",
     "output_type": "error",
     "traceback": [
      "\u001b[0;31m---------------------------------------------------------------------------\u001b[0m",
      "\u001b[0;31mValueError\u001b[0m                                Traceback (most recent call last)",
      "Cell \u001b[0;32mIn[28], line 13\u001b[0m\n\u001b[1;32m     11\u001b[0m     \u001b[38;5;28;01mreturn\u001b[39;00m l[\u001b[38;5;241m0\u001b[39m]\u001b[38;5;241m+\u001b[39ml[\u001b[38;5;241m1\u001b[39m]\n\u001b[1;32m     12\u001b[0m \u001b[38;5;66;03m# 创建贝叶斯优化器\u001b[39;00m\n\u001b[0;32m---> 13\u001b[0m opt \u001b[38;5;241m=\u001b[39m \u001b[43mOptimizer\u001b[49m\u001b[43m(\u001b[49m\u001b[43mspace\u001b[49m\u001b[43m,\u001b[49m\u001b[43m \u001b[49m\u001b[43mrandom_state\u001b[49m\u001b[38;5;241;43m=\u001b[39;49m\u001b[38;5;241;43m42\u001b[39;49m\u001b[43m)\u001b[49m\n\u001b[1;32m     15\u001b[0m \u001b[38;5;66;03m# 第一次请求候选点\u001b[39;00m\n\u001b[1;32m     16\u001b[0m x \u001b[38;5;241m=\u001b[39m opt\u001b[38;5;241m.\u001b[39mask()\n",
      "File \u001b[0;32m~/anaconda3/envs/tf/lib/python3.8/site-packages/skopt/optimizer/optimizer.py:219\u001b[0m, in \u001b[0;36mOptimizer.__init__\u001b[0;34m(self, dimensions, base_estimator, n_random_starts, n_initial_points, initial_point_generator, n_jobs, acq_func, acq_optimizer, random_state, model_queue_size, acq_func_kwargs, acq_optimizer_kwargs)\u001b[0m\n\u001b[1;32m    215\u001b[0m \u001b[38;5;66;03m# Configure estimator\u001b[39;00m\n\u001b[1;32m    216\u001b[0m \n\u001b[1;32m    217\u001b[0m \u001b[38;5;66;03m# build base_estimator if doesn't exist\u001b[39;00m\n\u001b[1;32m    218\u001b[0m \u001b[38;5;28;01mif\u001b[39;00m \u001b[38;5;28misinstance\u001b[39m(base_estimator, \u001b[38;5;28mstr\u001b[39m):\n\u001b[0;32m--> 219\u001b[0m     base_estimator \u001b[38;5;241m=\u001b[39m \u001b[43mcook_estimator\u001b[49m\u001b[43m(\u001b[49m\n\u001b[1;32m    220\u001b[0m \u001b[43m        \u001b[49m\u001b[43mbase_estimator\u001b[49m\u001b[43m,\u001b[49m\u001b[43m \u001b[49m\u001b[43mspace\u001b[49m\u001b[38;5;241;43m=\u001b[39;49m\u001b[43mdimensions\u001b[49m\u001b[43m,\u001b[49m\n\u001b[1;32m    221\u001b[0m \u001b[43m        \u001b[49m\u001b[43mrandom_state\u001b[49m\u001b[38;5;241;43m=\u001b[39;49m\u001b[38;5;28;43mself\u001b[39;49m\u001b[38;5;241;43m.\u001b[39;49m\u001b[43mrng\u001b[49m\u001b[38;5;241;43m.\u001b[39;49m\u001b[43mrandint\u001b[49m\u001b[43m(\u001b[49m\u001b[38;5;241;43m0\u001b[39;49m\u001b[43m,\u001b[49m\u001b[43m \u001b[49m\u001b[43mnp\u001b[49m\u001b[38;5;241;43m.\u001b[39;49m\u001b[43miinfo\u001b[49m\u001b[43m(\u001b[49m\u001b[43mnp\u001b[49m\u001b[38;5;241;43m.\u001b[39;49m\u001b[43mint32\u001b[49m\u001b[43m)\u001b[49m\u001b[38;5;241;43m.\u001b[39;49m\u001b[43mmax\u001b[49m\u001b[43m)\u001b[49m\u001b[43m,\u001b[49m\n\u001b[1;32m    222\u001b[0m \u001b[43m        \u001b[49m\u001b[43mn_jobs\u001b[49m\u001b[38;5;241;43m=\u001b[39;49m\u001b[43mn_jobs\u001b[49m\u001b[43m)\u001b[49m\n\u001b[1;32m    224\u001b[0m \u001b[38;5;66;03m# check if regressor\u001b[39;00m\n\u001b[1;32m    225\u001b[0m \u001b[38;5;28;01mif\u001b[39;00m \u001b[38;5;129;01mnot\u001b[39;00m is_regressor(base_estimator) \u001b[38;5;129;01mand\u001b[39;00m base_estimator \u001b[38;5;129;01mis\u001b[39;00m \u001b[38;5;129;01mnot\u001b[39;00m \u001b[38;5;28;01mNone\u001b[39;00m:\n",
      "File \u001b[0;32m~/anaconda3/envs/tf/lib/python3.8/site-packages/skopt/utils.py:368\u001b[0m, in \u001b[0;36mcook_estimator\u001b[0;34m(base_estimator, space, **kwargs)\u001b[0m\n\u001b[1;32m    366\u001b[0m \u001b[38;5;28;01mif\u001b[39;00m base_estimator \u001b[38;5;241m==\u001b[39m \u001b[38;5;124m\"\u001b[39m\u001b[38;5;124mGP\u001b[39m\u001b[38;5;124m\"\u001b[39m:\n\u001b[1;32m    367\u001b[0m     \u001b[38;5;28;01mif\u001b[39;00m space \u001b[38;5;129;01mis\u001b[39;00m \u001b[38;5;129;01mnot\u001b[39;00m \u001b[38;5;28;01mNone\u001b[39;00m:\n\u001b[0;32m--> 368\u001b[0m         space \u001b[38;5;241m=\u001b[39m \u001b[43mSpace\u001b[49m\u001b[43m(\u001b[49m\u001b[43mspace\u001b[49m\u001b[43m)\u001b[49m\n\u001b[1;32m    369\u001b[0m         space \u001b[38;5;241m=\u001b[39m Space(normalize_dimensions(space\u001b[38;5;241m.\u001b[39mdimensions))\n\u001b[1;32m    370\u001b[0m         n_dims \u001b[38;5;241m=\u001b[39m space\u001b[38;5;241m.\u001b[39mtransformed_n_dims\n",
      "File \u001b[0;32m~/anaconda3/envs/tf/lib/python3.8/site-packages/skopt/space/space.py:771\u001b[0m, in \u001b[0;36mSpace.__init__\u001b[0;34m(self, dimensions)\u001b[0m\n\u001b[1;32m    770\u001b[0m \u001b[38;5;28;01mdef\u001b[39;00m \u001b[38;5;21m__init__\u001b[39m(\u001b[38;5;28mself\u001b[39m, dimensions):\n\u001b[0;32m--> 771\u001b[0m     \u001b[38;5;28mself\u001b[39m\u001b[38;5;241m.\u001b[39mdimensions \u001b[38;5;241m=\u001b[39m [check_dimension(dim) \u001b[38;5;28;01mfor\u001b[39;00m dim \u001b[38;5;129;01min\u001b[39;00m dimensions]\n",
      "File \u001b[0;32m~/anaconda3/envs/tf/lib/python3.8/site-packages/skopt/space/space.py:771\u001b[0m, in \u001b[0;36m<listcomp>\u001b[0;34m(.0)\u001b[0m\n\u001b[1;32m    770\u001b[0m \u001b[38;5;28;01mdef\u001b[39;00m \u001b[38;5;21m__init__\u001b[39m(\u001b[38;5;28mself\u001b[39m, dimensions):\n\u001b[0;32m--> 771\u001b[0m     \u001b[38;5;28mself\u001b[39m\u001b[38;5;241m.\u001b[39mdimensions \u001b[38;5;241m=\u001b[39m [\u001b[43mcheck_dimension\u001b[49m\u001b[43m(\u001b[49m\u001b[43mdim\u001b[49m\u001b[43m)\u001b[49m \u001b[38;5;28;01mfor\u001b[39;00m dim \u001b[38;5;129;01min\u001b[39;00m dimensions]\n",
      "File \u001b[0;32m~/anaconda3/envs/tf/lib/python3.8/site-packages/skopt/space/space.py:91\u001b[0m, in \u001b[0;36mcheck_dimension\u001b[0;34m(dimension, transform)\u001b[0m\n\u001b[1;32m     88\u001b[0m     \u001b[38;5;28;01mreturn\u001b[39;00m dimension\n\u001b[1;32m     90\u001b[0m \u001b[38;5;28;01mif\u001b[39;00m \u001b[38;5;129;01mnot\u001b[39;00m \u001b[38;5;28misinstance\u001b[39m(dimension, (\u001b[38;5;28mlist\u001b[39m, \u001b[38;5;28mtuple\u001b[39m, np\u001b[38;5;241m.\u001b[39mndarray)):\n\u001b[0;32m---> 91\u001b[0m     \u001b[38;5;28;01mraise\u001b[39;00m \u001b[38;5;167;01mValueError\u001b[39;00m(\u001b[38;5;124m\"\u001b[39m\u001b[38;5;124mDimension has to be a list or tuple.\u001b[39m\u001b[38;5;124m\"\u001b[39m)\n\u001b[1;32m     93\u001b[0m \u001b[38;5;66;03m# A `Dimension` described by a single value is assumed to be\u001b[39;00m\n\u001b[1;32m     94\u001b[0m \u001b[38;5;66;03m# a `Categorical` dimension. This can be used in `BayesSearchCV`\u001b[39;00m\n\u001b[1;32m     95\u001b[0m \u001b[38;5;66;03m# to define subspaces that fix one value, e.g. to choose the\u001b[39;00m\n\u001b[1;32m     96\u001b[0m \u001b[38;5;66;03m# model type, see \"sklearn-gridsearchcv-replacement.py\"\u001b[39;00m\n\u001b[1;32m     97\u001b[0m \u001b[38;5;66;03m# for examples.\u001b[39;00m\n\u001b[1;32m     98\u001b[0m \u001b[38;5;28;01mif\u001b[39;00m \u001b[38;5;28mlen\u001b[39m(dimension) \u001b[38;5;241m==\u001b[39m \u001b[38;5;241m1\u001b[39m:\n",
      "\u001b[0;31mValueError\u001b[0m: Dimension has to be a list or tuple."
     ]
    }
   ],
   "source": [
    "from skopt import Optimizer\n",
    "from skopt.space import Categorical, Integer\n",
    "# 定义优化问题的参数空间\n",
    "#space = [(-5.0, 5.0), (-2.0, 2.0)]\n",
    "space = {\n",
    "    'F': Categorical(['A', 'C', 'T','G']),\n",
    "    'S': Categorical(['A', 'C', 'T','G']),\n",
    "}\n",
    "\n",
    "def your_objective_function(l):\n",
    "    return l[0]+l[1]\n",
    "# 创建贝叶斯优化器\n",
    "opt = Optimizer(dimensions=space, random_state=42)\n",
    "\n",
    "# 第一次请求候选点\n",
    "x = opt.ask()\n",
    "print(x)\n",
    "# 在候选点处评估目标函数\n",
    "y = your_objective_function(x)\n",
    "\n",
    "# 将观察结果传递给优化器\n",
    "opt.tell(x, y)\n",
    "\n",
    "# 迭代过程\n",
    "for _ in range(20):\n",
    "    # 请求下一个候选点\n",
    "    x = opt.ask()\n",
    "    print(x)\n",
    "    # 在候选点处评估目标函数\n",
    "    y = your_objective_function(x)\n",
    "\n",
    "    # 将观察结果传递给优化器\n",
    "    opt.tell(x, y)\n"
   ]
  },
  {
   "cell_type": "code",
   "execution_count": null,
   "id": "7423988f-db27-4dde-ac0c-737a7f235951",
   "metadata": {},
   "outputs": [],
   "source": []
  }
 ],
 "metadata": {
  "kernelspec": {
   "display_name": "Python 3 (ipykernel)",
   "language": "python",
   "name": "python3"
  },
  "language_info": {
   "codemirror_mode": {
    "name": "ipython",
    "version": 3
   },
   "file_extension": ".py",
   "mimetype": "text/x-python",
   "name": "python",
   "nbconvert_exporter": "python",
   "pygments_lexer": "ipython3",
   "version": "3.8.0"
  }
 },
 "nbformat": 4,
 "nbformat_minor": 5
}
