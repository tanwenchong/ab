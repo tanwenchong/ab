{
 "cells": [
  {
   "cell_type": "code",
   "execution_count": 15,
   "id": "86a75f49-d853-443a-a625-7d4d3240bc6d",
   "metadata": {},
   "outputs": [],
   "source": [
    "import torch.nn as nn\n",
    "import torch\n",
    "import numpy as np\n",
    "import torch.nn.functional as F\n",
    "class VarianceSchedule(nn.Module):\n",
    "\n",
    "    def __init__(self, num_steps=100, s=0.01):\n",
    "        super().__init__()\n",
    "        T = num_steps\n",
    "        t = torch.arange(0, num_steps+1, dtype=torch.float)\n",
    "        f_t = torch.cos( (np.pi / 2) * ((t/T) + s) / (1 + s) ) ** 2\n",
    "        alpha_bars = f_t / f_t[0]\n",
    "\n",
    "        betas = 1 - (alpha_bars[1:] / alpha_bars[:-1])\n",
    "        betas = torch.cat([torch.zeros([1]), betas], dim=0)\n",
    "        betas = betas.clamp_max(0.999)\n",
    " \n",
    "        sigmas = torch.zeros_like(betas)\n",
    "        for i in range(1, betas.size(0)):\n",
    "            sigmas[i] = ((1 - alpha_bars[i-1]) / (1 - alpha_bars[i])) * betas[i]\n",
    "        sigmas = torch.sqrt(sigmas)\n",
    "        \n",
    "        self.register_buffer('betas', betas)\n",
    "        self.register_buffer('alpha_bars', alpha_bars)\n",
    "        self.register_buffer('alphas', 1 - betas)\n",
    "        self.register_buffer('sigmas', sigmas)\n",
    "        # calculate X0 = sqrt_recip_alphas_cumprod * Xt - sqrt_recipm1_alphas_cumprod * noise\n",
    "        self.register_buffer('sqrt_recip_alphas_cumprod', torch.sqrt(1. / alpha_bars))\n",
    "        self.register_buffer('sqrt_recipm1_alphas_cumprod', torch.sqrt(1. / alpha_bars - 1))\n",
    "        \n",
    "        alphas = 1 - betas\n",
    "        alphas_cumprod = torch.cumprod(alphas, dim=0)\n",
    "        alphas_cumprod_prev = F.pad(alphas_cumprod[:-1], (1, 0), value = 1.)\n",
    "        self.posterior_variance = betas * (1. - alphas_cumprod_prev) / (1. - alphas_cumprod)\n",
    "        self.posterior_log_variance_clipped = torch.log(self.posterior_variance.clamp(min =1e-20))\n",
    "        self.posterior_mean_coef1 = betas * torch.sqrt(alphas_cumprod_prev) / (1. - alphas_cumprod)\n",
    "        self.posterior_mean_coef2 = (1. - alphas_cumprod_prev) * torch.sqrt(alphas) / (1. - alphas_cumprod)\n",
    "        \n",
    "    def to(self,device):\n",
    "        for k, v in self.__dict__.items():\n",
    "            if isinstance(v, torch.Tensor):\n",
    "                self.__dict__[k] = v.to(device)\n"
   ]
  },
  {
   "cell_type": "code",
   "execution_count": 10,
   "id": "924fce0f-b1ef-49ec-9d42-c70cbc2a492d",
   "metadata": {},
   "outputs": [],
   "source": [
    "class PositionTransition(nn.Module):\n",
    "\n",
    "    def __init__(self, num_steps, var_sched_opt={}):\n",
    "        super().__init__()\n",
    "        self.var_sched = VarianceSchedule(num_steps, **var_sched_opt)\n",
    "         \n",
    "    def add_noise(self, p_0, mask_generate,  t):\n",
    "        \"\"\"\n",
    "        Args:\n",
    "            p_0:    (N, L, 3).\n",
    "            mask_generate:    (N, L).\n",
    "            t:  (N,).\n",
    "        \"\"\"\n",
    "        alpha_bar = self.var_sched.alpha_bars[t]\n",
    "        nb_non_batch_dims = len(p_0.shape) - 1\n",
    "        c0 = torch.sqrt(alpha_bar).view(-1, *(nb_non_batch_dims*(1,)))\n",
    "        c1 = torch.sqrt(1 - alpha_bar).view(-1, *(nb_non_batch_dims*(1,)))\n",
    "        prior_p = torch.randn_like(p_0)\n",
    "           \n",
    "        p_noisy = c0*p_0 + c1*prior_p\n",
    "        p_noisy = torch.where(mask_generate[..., None].expand_as(p_0), p_noisy, p_0)\n",
    "\n",
    "        return p_noisy, prior_p"
   ]
  },
  {
   "cell_type": "code",
   "execution_count": 19,
   "id": "6c23267c-dfec-4f72-8403-30d30d4358da",
   "metadata": {},
   "outputs": [],
   "source": [
    "from torch_scatter import scatter_sum\n",
    "p=torch.randn((10,128))\n",
    "batch_id=torch.LongTensor([0,0,0,0,0,0,0,0,0,0])\n",
    "lengths = scatter_sum(torch.ones_like(batch_id), batch_id)\n",
    "t = torch.randint(0, 100, (1,), dtype=torch.long)\n",
    "expanded_t = torch.cat([time.repeat(l) for time,l in zip(t,lengths)])"
   ]
  },
  {
   "cell_type": "code",
   "execution_count": 31,
   "id": "295647cb-9739-40a7-8260-f9b984d43970",
   "metadata": {},
   "outputs": [
    {
     "data": {
      "text/plain": [
       "tensor([100, 100, 100, 100, 100, 100, 100, 100, 100, 100])"
      ]
     },
     "execution_count": 31,
     "metadata": {},
     "output_type": "execute_result"
    }
   ],
   "source": [
    "torch.full((10,),100, dtype=torch.long)"
   ]
  },
  {
   "cell_type": "code",
   "execution_count": 7,
   "id": "413ef132-a7f9-4f91-98e8-fe2b5217d8d9",
   "metadata": {},
   "outputs": [],
   "source": [
    "mask=torch.LongTensor([0,0,0,0,0,0,0,0,0,1]).bool()"
   ]
  },
  {
   "cell_type": "code",
   "execution_count": 16,
   "id": "24702d63-0e45-4a40-9cd4-ff9b794bca20",
   "metadata": {},
   "outputs": [],
   "source": [
    "trans_rot = PositionTransition(100)"
   ]
  },
  {
   "cell_type": "code",
   "execution_count": 23,
   "id": "58da188e-efc7-4cc3-b926-050da9d43b13",
   "metadata": {},
   "outputs": [
    {
     "data": {
      "text/plain": [
       "(tensor([[ 0.3485, -0.2922, -0.2746,  ..., -1.5693,  1.5754,  0.3972],\n",
       "         [ 0.0674, -0.5424,  0.7440,  ..., -2.0407,  1.4795, -2.1597],\n",
       "         [-1.0217,  0.5803,  0.9991,  ...,  1.1805,  0.3093, -0.0717],\n",
       "         ...,\n",
       "         [ 0.7005, -0.4601,  1.5785,  ...,  0.2578, -0.3659,  0.0597],\n",
       "         [ 0.6066, -1.1699, -1.8528,  ..., -1.4484, -0.8706,  0.5774],\n",
       "         [-0.5059, -1.0857, -1.2176,  ...,  3.6567,  0.4935,  1.5655]]),\n",
       " tensor([[ 4.5911e-01,  1.1102e+00, -2.6017e+00,  ...,  8.0807e-01,\n",
       "           5.3372e-01,  3.0030e-01],\n",
       "         [ 2.2121e-02, -1.0817e+00,  2.0692e-01,  ..., -9.6972e-01,\n",
       "          -1.9992e-01, -1.3044e+00],\n",
       "         [-1.0450e-02,  6.7107e-01,  1.0604e+00,  ..., -6.2740e-01,\n",
       "           2.0962e+00,  1.0689e+00],\n",
       "         ...,\n",
       "         [-9.5038e-01, -9.5703e-01, -2.0748e-01,  ..., -9.6532e-01,\n",
       "           5.7639e-01, -1.2554e+00],\n",
       "         [-1.0567e-01, -6.2298e-01, -5.3075e-01,  ..., -2.5494e-03,\n",
       "           1.0557e+00,  1.0229e-01],\n",
       "         [-7.6742e-02, -1.7941e-01,  8.2939e-01,  ...,  9.2019e-01,\n",
       "          -2.4423e-01,  1.4814e+00]]))"
      ]
     },
     "execution_count": 23,
     "metadata": {},
     "output_type": "execute_result"
    }
   ],
   "source": [
    "trans_rot.add_noise(p,mask,expanded_t)"
   ]
  },
  {
   "cell_type": "code",
   "execution_count": 24,
   "id": "6cc99eac-ba88-4545-b241-b5a19d56a876",
   "metadata": {},
   "outputs": [
    {
     "data": {
      "text/plain": [
       "tensor([[ 0.3485, -0.2922, -0.2746,  ..., -1.5693,  1.5754,  0.3972],\n",
       "        [ 0.0674, -0.5424,  0.7440,  ..., -2.0407,  1.4795, -2.1597],\n",
       "        [-1.0217,  0.5803,  0.9991,  ...,  1.1805,  0.3093, -0.0717],\n",
       "        ...,\n",
       "        [ 0.7005, -0.4601,  1.5785,  ...,  0.2578, -0.3659,  0.0597],\n",
       "        [ 0.6066, -1.1699, -1.8528,  ..., -1.4484, -0.8706,  0.5774],\n",
       "        [-0.5489, -1.1688, -1.9565,  ...,  3.7385,  0.7354,  0.9192]])"
      ]
     },
     "execution_count": 24,
     "metadata": {},
     "output_type": "execute_result"
    }
   ],
   "source": [
    "p"
   ]
  },
  {
   "cell_type": "code",
   "execution_count": null,
   "id": "8e762d9f-b3a0-48fd-bb44-591ac242af94",
   "metadata": {},
   "outputs": [],
   "source": []
  }
 ],
 "metadata": {
  "kernelspec": {
   "display_name": "Python 3 (ipykernel)",
   "language": "python",
   "name": "python3"
  },
  "language_info": {
   "codemirror_mode": {
    "name": "ipython",
    "version": 3
   },
   "file_extension": ".py",
   "mimetype": "text/x-python",
   "name": "python",
   "nbconvert_exporter": "python",
   "pygments_lexer": "ipython3",
   "version": "3.10.12"
  }
 },
 "nbformat": 4,
 "nbformat_minor": 5
}
